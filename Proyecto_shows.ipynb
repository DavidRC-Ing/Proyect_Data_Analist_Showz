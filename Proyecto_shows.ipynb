{
 "cells": [
  {
   "cell_type": "markdown",
   "id": "ce107a52",
   "metadata": {},
   "source": [
    "# Proyecto Showz"
   ]
  },
  {
   "cell_type": "markdown",
   "id": "8b9192db",
   "metadata": {},
   "source": [
    "## Introduccion \n",
    "Para el desarrollo de este proyecto, buscamos optimizar los gastos de marketing basando la investigación en el análisis de datos de comportamiento de los usuarios. A su vez, se establecerán cohortes de clientes con el objetivo de entender cómo, cuándo y cuánto aportan a la compañía. Este enfoque nos permitirá identificar patrones de uso, momentos clave en el ciclo de vida del cliente y calcular el retorno de la inversión en adquisición, facilitando así una mejor toma de decisiones estratégicas.\n",
    "\n",
    "Contamos con los registros del servidor con los siguientes datasets:\n",
    "- visits.csv: visitas al sitio (ID, fuente, timestamp, etc.).\n",
    "\n",
    "- orders.csv: pedidos (cliente, fecha, importe, etc.).\n",
    "\n",
    "- costs.csv: gastos de marketing (fecha, canal, inversión)."
   ]
  },
  {
   "cell_type": "markdown",
   "id": "5521f451",
   "metadata": {},
   "source": [
    "# Objetivo General \n",
    "``Optimizar los gastos de marketing entendiendo cómo, cuándo y cuánto aportan los clientes.``"
   ]
  },
  {
   "cell_type": "markdown",
   "id": "18992098",
   "metadata": {},
   "source": [
    "## Descripcion de los datos\n",
    "La tabla `visits` (registros del servidor con datos sobre las visitas al sitio web):\n",
    "\n",
    "- Uid: identificador único del usuario.\n",
    "- Device: dispositivo del usuario.\n",
    "- Start Ts: fecha y hora de inicio de la sesión.\n",
    "- End Ts: fecha y hora de término de la sesión.\n",
    "- Source Id: identificador de la fuente de anuncios de la que proviene el usuario.\n",
    "\n",
    "Todas las fechas de esta tabla están en formato AAAA-MM-DD.\n",
    "\n",
    "La tabla `orders` (datos sobre pedidos):\n",
    "\n",
    "- Uid: identificador único del usuario que realiza un pedido.\n",
    "- Buy Ts: fecha y hora del pedido. Revenue: el ingreso de Showz por el pedido.\n",
    "\n",
    "La tabla `costs` (datos sobre gastos de marketing):\n",
    "\n",
    "- source_id: identificador de la fuente de anuncios.\n",
    "- dt: fecha.\n",
    "- costs: gastos en esta fuente de anuncios en este día."
   ]
  },
  {
   "cell_type": "code",
   "execution_count": 75,
   "id": "65c4a1fd",
   "metadata": {},
   "outputs": [],
   "source": [
    "# Cargar todas las librerias\n",
    "import pandas as pd \n"
   ]
  },
  {
   "cell_type": "code",
   "execution_count": 76,
   "id": "87f22a94",
   "metadata": {},
   "outputs": [],
   "source": [
    "# Designar las variables de los Dataframe \n",
    "visits= pd.read_csv('/Users/ASUS/OneDrive/Documentos/Tripleten/Proyecto Spring 9/visits_log_us.csv', sep=',') \n",
    "orders=pd.read_csv('/Users/ASUS/OneDrive/Documentos/Tripleten/Proyecto Spring 9/orders_log_us.csv', sep=',')\n",
    "costs=pd.read_csv('/Users/ASUS/OneDrive/Documentos/Tripleten/Proyecto Spring 9/costs_us.csv', sep=',')"
   ]
  },
  {
   "cell_type": "markdown",
   "id": "cd1c87fd",
   "metadata": {},
   "source": [
    "## Nombres asignados a los DataFrames\n",
    "\n",
    "Para garantizar un desarrollo estructurado y eficiente del proyecto, se asignaron nombres descriptivos a los *DataFrames* generados a partir de las consultas a los servidores. Esta práctica permite mantener un flujo de trabajo organizado y facilita la interpretación de los resultados en las distintas etapas del análisis. Las asignaciones realizadas son las siguientes:\n",
    "\n",
    "- `visits`: corresponde al resultado de la consulta `visits_log_us`.\n",
    "- `orders`: corresponde al resultado de la consulta `orders_log_us`.\n",
    "- `costs`: corresponde al resultado de la consulta `costs_us`.\n",
    "\n",
    "A continuación, el análisis exploratorio de los datos.\n"
   ]
  },
  {
   "cell_type": "code",
   "execution_count": 77,
   "id": "bc2497dd",
   "metadata": {},
   "outputs": [
    {
     "name": "stdout",
     "output_type": "stream",
     "text": [
      "<class 'pandas.core.frame.DataFrame'>\n",
      "RangeIndex: 359400 entries, 0 to 359399\n",
      "Data columns (total 5 columns):\n",
      " #   Column     Non-Null Count   Dtype \n",
      "---  ------     --------------   ----- \n",
      " 0   Device     359400 non-null  object\n",
      " 1   End Ts     359400 non-null  object\n",
      " 2   Source Id  359400 non-null  int64 \n",
      " 3   Start Ts   359400 non-null  object\n",
      " 4   Uid        359400 non-null  uint64\n",
      "dtypes: int64(1), object(3), uint64(1)\n",
      "memory usage: 13.7+ MB\n",
      "\n",
      "          Device               End Ts  Source Id             Start Ts  \\\n",
      "156178  desktop  2017-11-28 12:57:00          2  2017-11-28 12:53:00   \n",
      "83292   desktop  2017-12-05 13:17:00          3  2017-12-05 13:14:00   \n",
      "225053    touch  2018-02-04 22:28:00          4  2018-02-04 22:27:00   \n",
      "69491   desktop  2017-12-12 17:52:00          4  2017-12-12 17:51:00   \n",
      "55140   desktop  2018-03-28 23:16:00          5  2018-03-28 22:58:00   \n",
      "\n",
      "                         Uid  \n",
      "156178  18069293404286467993  \n",
      "83292   15574612294865373014  \n",
      "225053   6135029257441808092  \n",
      "69491    8225162639629365331  \n",
      "55140    1541004856835529620  \n"
     ]
    }
   ],
   "source": [
    "# Visualizacion preliminar de los dataframes:\n",
    "\n",
    "visits.info()\n",
    "\n",
    "# estandarizar datos:\n",
    "for col in visits.select_dtypes(include='object'):\n",
    "    visits[col] = visits[col].str.lower()\n",
    "\n",
    "print('\\n', visits.sample(n=5))\n"
   ]
  },
  {
   "cell_type": "code",
   "execution_count": 78,
   "id": "62c33631",
   "metadata": {},
   "outputs": [
    {
     "name": "stdout",
     "output_type": "stream",
     "text": [
      "<class 'pandas.core.frame.DataFrame'>\n",
      "RangeIndex: 50415 entries, 0 to 50414\n",
      "Data columns (total 3 columns):\n",
      " #   Column   Non-Null Count  Dtype  \n",
      "---  ------   --------------  -----  \n",
      " 0   Buy Ts   50415 non-null  object \n",
      " 1   Revenue  50415 non-null  float64\n",
      " 2   Uid      50415 non-null  uint64 \n",
      "dtypes: float64(1), object(1), uint64(1)\n",
      "memory usage: 1.2+ MB\n",
      "\n",
      "                     Buy Ts  Revenue                   Uid\n",
      "5644   2017-08-19 18:48:00     1.33   9103966622588051356\n",
      "24257  2017-12-15 15:22:00     2.44  12917425213294036126\n",
      "18136  2017-11-17 19:10:00     3.30  11920452646463905188\n",
      "14146  2017-10-23 12:14:00     1.83   2276755474897127212\n",
      "7337   2017-09-09 20:46:00     0.92   6747682981491646964\n"
     ]
    }
   ],
   "source": [
    "# Visualizacion preliminar de los dataframes:\n",
    "\n",
    "orders.info()\n",
    "\n",
    "print('\\n', orders.sample(n=5))"
   ]
  },
  {
   "cell_type": "code",
   "execution_count": 79,
   "id": "01d2c79d",
   "metadata": {},
   "outputs": [
    {
     "name": "stdout",
     "output_type": "stream",
     "text": [
      "<class 'pandas.core.frame.DataFrame'>\n",
      "RangeIndex: 2542 entries, 0 to 2541\n",
      "Data columns (total 3 columns):\n",
      " #   Column     Non-Null Count  Dtype  \n",
      "---  ------     --------------  -----  \n",
      " 0   source_id  2542 non-null   int64  \n",
      " 1   dt         2542 non-null   object \n",
      " 2   costs      2542 non-null   float64\n",
      "dtypes: float64(1), int64(1), object(1)\n",
      "memory usage: 59.7+ KB\n",
      "\n",
      "       source_id          dt   costs\n",
      "2409         10  2018-01-17   23.92\n",
      "2257         10  2017-08-18   16.98\n",
      "2016          9  2017-12-18   23.15\n",
      "2369         10  2017-12-08    9.50\n",
      "801           3  2017-08-15  192.73\n"
     ]
    }
   ],
   "source": [
    "# Visualizacion preliminar de los dataframes:\n",
    "\n",
    "costs.info()\n",
    "\n",
    "print('\\n', costs.sample(n=5))"
   ]
  },
  {
   "cell_type": "markdown",
   "id": "dd854a93",
   "metadata": {},
   "source": [
    "## Correcion de tipo de datos"
   ]
  },
  {
   "cell_type": "markdown",
   "id": "db1e7ca5",
   "metadata": {},
   "source": [
    "Dado que la naturaleza de los datos requiere un procesamiento adecuado, es fundamental contar con una estructura organizada y coherente. Por esta razón, se ha llevado a cabo una reorganización estratégica de los conjuntos de datos, lo cual permitirá facilitar su análisis en cada etapa del proyecto. A continuación, se detallan las transformaciones realizadas específicamente en los dataframes visits, orders y costs:\n",
    "\n",
    "- En ``visits``, se renombran las columnas para eliminar espacios y facilitar el manejo del código (Start Ts a start_ts, End Ts a end_ts, etc.), y se convierten las columnas de fechas al formato datetime.\n",
    "\n",
    "- En ``orders``, se transforma la columna Buy Ts a buy_ts y se asegura que los ingresos (revenue) estén en el tipo numérico correcto.\n",
    "\n",
    "- En ``costs``, se homogeneizan los nombres (dt para la fecha, costs para los gastos) y se convierte la columna de fechas a datetime.\n",
    "\n",
    "Esta preparación garantiza que los datos estén listos para los análisis de comportamiento, cohortes y rentabilidad que se desarrollarán a lo largo del proyecto."
   ]
  }
 ],
 "metadata": {
  "kernelspec": {
   "display_name": "Python 3",
   "language": "python",
   "name": "python3"
  },
  "language_info": {
   "codemirror_mode": {
    "name": "ipython",
    "version": 3
   },
   "file_extension": ".py",
   "mimetype": "text/x-python",
   "name": "python",
   "nbconvert_exporter": "python",
   "pygments_lexer": "ipython3",
   "version": "3.13.0"
  }
 },
 "nbformat": 4,
 "nbformat_minor": 5
}
