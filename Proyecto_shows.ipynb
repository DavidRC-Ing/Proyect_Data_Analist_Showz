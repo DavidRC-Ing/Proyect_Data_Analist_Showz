{
 "cells": [
  {
   "cell_type": "markdown",
   "id": "ce107a52",
   "metadata": {},
   "source": [
    "# Proyecto Showz"
   ]
  },
  {
   "cell_type": "markdown",
   "id": "8b9192db",
   "metadata": {},
   "source": [
    "## Introduccion \n",
    "Para el desarrollo de este proyecto, buscamos optimizar los gastos de marketing basando la investigación en el análisis de datos de comportamiento de los usuarios. A su vez, se establecerán cohortes de clientes con el objetivo de entender cómo, cuándo y cuánto aportan a la compañía. Este enfoque nos permitirá identificar patrones de uso, momentos clave en el ciclo de vida del cliente y calcular el retorno de la inversión en adquisición, facilitando así una mejor toma de decisiones estratégicas.\n",
    "\n",
    "Contamos con los registros del servidor con los siguientes datasets:\n",
    "- visits.csv: visitas al sitio (ID, fuente, timestamp, etc.).\n",
    "\n",
    "- orders.csv: pedidos (cliente, fecha, importe, etc.).\n",
    "\n",
    "- costs.csv: gastos de marketing (fecha, canal, inversión)."
   ]
  },
  {
   "cell_type": "markdown",
   "id": "5521f451",
   "metadata": {},
   "source": [
    "# Objetivo General \n",
    "``Optimizar los gastos de marketing entendiendo cómo, cuándo y cuánto aportan los clientes.``"
   ]
  },
  {
   "cell_type": "markdown",
   "id": "18992098",
   "metadata": {},
   "source": [
    "## Descripcion de los datos\n",
    "La tabla `visits` (registros del servidor con datos sobre las visitas al sitio web):\n",
    "\n",
    "- Uid: identificador único del usuario.\n",
    "- Device: dispositivo del usuario.\n",
    "- Start Ts: fecha y hora de inicio de la sesión.\n",
    "- End Ts: fecha y hora de término de la sesión.\n",
    "- Source Id: identificador de la fuente de anuncios de la que proviene el usuario.\n",
    "\n",
    "Todas las fechas de esta tabla están en formato AAAA-MM-DD.\n",
    "\n",
    "La tabla `orders` (datos sobre pedidos):\n",
    "\n",
    "- Uid: identificador único del usuario que realiza un pedido.\n",
    "- Buy Ts: fecha y hora del pedido. Revenue: el ingreso de Showz por el pedido.\n",
    "\n",
    "La tabla `costs` (datos sobre gastos de marketing):\n",
    "\n",
    "- source_id: identificador de la fuente de anuncios.\n",
    "- dt: fecha.\n",
    "- costs: gastos en esta fuente de anuncios en este día."
   ]
  },
  {
   "cell_type": "code",
   "execution_count": 1000,
   "id": "65c4a1fd",
   "metadata": {},
   "outputs": [],
   "source": [
    "# Cargar todas las librerias\n",
    "import pandas as pd \n"
   ]
  },
  {
   "cell_type": "code",
   "execution_count": 1001,
   "id": "87f22a94",
   "metadata": {},
   "outputs": [],
   "source": [
    "# Designar las variables de los Dataframe \n",
    "visits= pd.read_csv('/Users/ASUS/OneDrive/Documentos/Tripleten/Proyecto Spring 9/visits_log_us.csv', sep=',') \n",
    "orders=pd.read_csv('/Users/ASUS/OneDrive/Documentos/Tripleten/Proyecto Spring 9/orders_log_us.csv', sep=',')\n",
    "costs=pd.read_csv('/Users/ASUS/OneDrive/Documentos/Tripleten/Proyecto Spring 9/costs_us.csv', sep=',')"
   ]
  },
  {
   "cell_type": "markdown",
   "id": "cd1c87fd",
   "metadata": {},
   "source": [
    "## Nombres asignados a los DataFrames\n",
    "\n",
    "Para garantizar un desarrollo estructurado y eficiente del proyecto, se asignaron nombres descriptivos a los *DataFrames* generados a partir de las consultas a los servidores. Esta práctica permite mantener un flujo de trabajo organizado y facilita la interpretación de los resultados en las distintas etapas del análisis. Las asignaciones realizadas son las siguientes:\n",
    "\n",
    "- `visits`: corresponde al resultado de la consulta `visits_log_us`.\n",
    "- `orders`: corresponde al resultado de la consulta `orders_log_us`.\n",
    "- `costs`: corresponde al resultado de la consulta `costs_us`.\n",
    "\n",
    "A continuación, el análisis exploratorio de los datos.\n"
   ]
  },
  {
   "cell_type": "code",
   "execution_count": 1002,
   "id": "bc2497dd",
   "metadata": {},
   "outputs": [
    {
     "name": "stdout",
     "output_type": "stream",
     "text": [
      "<class 'pandas.core.frame.DataFrame'>\n",
      "RangeIndex: 359400 entries, 0 to 359399\n",
      "Data columns (total 5 columns):\n",
      " #   Column     Non-Null Count   Dtype \n",
      "---  ------     --------------   ----- \n",
      " 0   Device     359400 non-null  object\n",
      " 1   End Ts     359400 non-null  object\n",
      " 2   Source Id  359400 non-null  int64 \n",
      " 3   Start Ts   359400 non-null  object\n",
      " 4   Uid        359400 non-null  uint64\n",
      "dtypes: int64(1), object(3), uint64(1)\n",
      "memory usage: 13.7+ MB\n",
      "\n",
      "          Device               End Ts  Source Id             Start Ts  \\\n",
      "282776    touch  2017-10-21 15:55:00          3  2017-10-21 15:55:00   \n",
      "263125  desktop  2018-01-11 12:50:00          4  2018-01-11 12:40:00   \n",
      "301176  desktop  2018-02-06 10:06:00          2  2018-02-06 09:09:00   \n",
      "25275     touch  2018-01-19 11:36:00          3  2018-01-19 11:12:00   \n",
      "246172    touch  2017-11-12 22:25:00          4  2017-11-12 22:23:00   \n",
      "\n",
      "                         Uid  \n",
      "282776   7445811389565018265  \n",
      "263125  13081433066871836092  \n",
      "301176  11171561711096037819  \n",
      "25275    5108392230468803716  \n",
      "246172   5946102699779629650  \n"
     ]
    }
   ],
   "source": [
    "# Visualizacion preliminar de los dataframes:\n",
    "\n",
    "visits.info()\n",
    "\n",
    "# estandarizar datos:\n",
    "for col in visits.select_dtypes(include='object'):\n",
    "    visits[col] = visits[col].str.lower()\n",
    "\n",
    "print('\\n', visits.sample(n=5))\n"
   ]
  },
  {
   "cell_type": "code",
   "execution_count": 1003,
   "id": "62c33631",
   "metadata": {},
   "outputs": [
    {
     "name": "stdout",
     "output_type": "stream",
     "text": [
      "<class 'pandas.core.frame.DataFrame'>\n",
      "RangeIndex: 50415 entries, 0 to 50414\n",
      "Data columns (total 3 columns):\n",
      " #   Column   Non-Null Count  Dtype  \n",
      "---  ------   --------------  -----  \n",
      " 0   Buy Ts   50415 non-null  object \n",
      " 1   Revenue  50415 non-null  float64\n",
      " 2   Uid      50415 non-null  uint64 \n",
      "dtypes: float64(1), object(1), uint64(1)\n",
      "memory usage: 1.2+ MB\n",
      "\n",
      "                     Buy Ts  Revenue                   Uid\n",
      "38020  2018-03-03 19:10:00     3.05   2771391329377240183\n",
      "16154  2017-11-04 21:08:00     0.37   3386416631889756314\n",
      "2325   2017-06-30 19:15:00     4.58  14158485430215009858\n",
      "14415  2017-10-24 21:27:00     2.75   2782735980490076186\n",
      "25757  2017-12-24 15:38:00     7.33   6267430500450160427\n"
     ]
    }
   ],
   "source": [
    "# Visualizacion preliminar de los dataframes:\n",
    "\n",
    "orders.info()\n",
    "\n",
    "print('\\n', orders.sample(n=5))"
   ]
  },
  {
   "cell_type": "code",
   "execution_count": 1004,
   "id": "01d2c79d",
   "metadata": {},
   "outputs": [
    {
     "name": "stdout",
     "output_type": "stream",
     "text": [
      "<class 'pandas.core.frame.DataFrame'>\n",
      "RangeIndex: 2542 entries, 0 to 2541\n",
      "Data columns (total 3 columns):\n",
      " #   Column     Non-Null Count  Dtype  \n",
      "---  ------     --------------  -----  \n",
      " 0   source_id  2542 non-null   int64  \n",
      " 1   dt         2542 non-null   object \n",
      " 2   costs      2542 non-null   float64\n",
      "dtypes: float64(1), int64(1), object(1)\n",
      "memory usage: 59.7+ KB\n",
      "\n",
      "       source_id          dt   costs\n",
      "68            1  2017-08-08   33.71\n",
      "2183         10  2017-06-05   26.68\n",
      "232           1  2018-01-19   89.01\n",
      "1302          4  2017-12-31   60.65\n",
      "872           3  2017-10-25  369.48\n"
     ]
    }
   ],
   "source": [
    "# Visualizacion preliminar de los dataframes:\n",
    "\n",
    "costs.info()\n",
    "\n",
    "print('\\n', costs.sample(n=5))"
   ]
  },
  {
   "cell_type": "markdown",
   "id": "dd854a93",
   "metadata": {},
   "source": [
    "## Correcion de tipo de datos"
   ]
  },
  {
   "cell_type": "markdown",
   "id": "db1e7ca5",
   "metadata": {},
   "source": [
    "Dado que la naturaleza de los datos requiere un procesamiento adecuado, es fundamental contar con una estructura organizada y coherente. Por esta razón, se ha llevado a cabo una reorganización estratégica de los conjuntos de datos, lo cual permitirá facilitar su análisis en cada etapa del proyecto. A continuación, se detallan las transformaciones realizadas específicamente en los dataframes visits, orders y costs:\n",
    "\n",
    "- En ``visits``, se renombran las columnas para eliminar espacios y facilitar el manejo del código (Start Ts a start_ts, End Ts a end_ts, etc.), y se convierten las columnas de fechas al formato datetime.\n",
    "\n",
    "- En ``orders``, se transforma la columna Buy Ts a buy_ts y se asegura que los ingresos (revenue) estén en el tipo numérico correcto.\n",
    "\n",
    "- En ``costs``, se homogeneizan los nombres (dt para la fecha, costs para los gastos) y se convierte la columna de fechas a datetime.\n",
    "\n",
    "Esta preparación garantiza que los datos estén listos para los análisis de comportamiento, cohortes y rentabilidad que se desarrollarán a lo largo del proyecto."
   ]
  },
  {
   "cell_type": "code",
   "execution_count": 1005,
   "id": "b083614b",
   "metadata": {},
   "outputs": [
    {
     "name": "stdout",
     "output_type": "stream",
     "text": [
      "device               object\n",
      "end_ts       datetime64[ns]\n",
      "source_id             int64\n",
      "start_ts     datetime64[ns]\n",
      "uid                  uint64\n",
      "dtype: object\n",
      "buy_ts     datetime64[ns]\n",
      "revenue           float64\n",
      "uid                uint64\n",
      "dtype: object\n",
      "source_id             int64\n",
      "dt           datetime64[ns]\n",
      "costs               float64\n",
      "dtype: object\n"
     ]
    }
   ],
   "source": [
    "# Renombrar columnas para que sean más fáciles de manejar\n",
    "\n",
    "visits.columns = ['device','end_ts', 'source_id','start_ts','uid']\n",
    "orders.columns = ['buy_ts', 'revenue','uid']\n",
    "costs.columns = ['source_id', 'dt', 'costs']\n",
    "\n",
    "## Convertir fechas a datetime\n",
    "\n",
    "visits['start_ts']=pd.to_datetime(visits['start_ts'])\n",
    "visits['end_ts']=pd.to_datetime(visits['end_ts'])\n",
    "\n",
    "orders['buy_ts']=pd.to_datetime(orders['buy_ts'])\n",
    "\n",
    "costs['dt']=pd.to_datetime(costs['dt'])\n",
    "\n",
    "# Revisar los tipos\n",
    "print(visits.dtypes)\n",
    "print(orders.dtypes)\n",
    "print(costs.dtypes)\n",
    "\n"
   ]
  },
  {
   "cell_type": "markdown",
   "id": "7d658d47",
   "metadata": {},
   "source": [
    "# Visitas"
   ]
  },
  {
   "cell_type": "markdown",
   "id": "1f5754ee",
   "metadata": {},
   "source": [
    "## ¿Cuántas personas lo usan cada día, semana y mes?"
   ]
  },
  {
   "cell_type": "markdown",
   "id": "7c8416a0",
   "metadata": {},
   "source": [
    "- Se tiene que implementar una clasificación de las fechas para establecer la cantidad de personas y calcular un promedio mensual, semanal y diario con fines de análisis."
   ]
  },
  {
   "cell_type": "code",
   "execution_count": 1006,
   "id": "e6ee2316",
   "metadata": {},
   "outputs": [
    {
     "name": "stdout",
     "output_type": "stream",
     "text": [
      "         device              end_ts  source_id            start_ts  \\\n",
      "329644  desktop 2018-04-28 23:15:00          4 2018-04-28 22:52:00   \n",
      "281621  desktop 2018-01-08 23:59:00          4 2018-01-08 23:48:00   \n",
      "339474  desktop 2018-04-17 10:53:00          3 2018-04-17 10:16:00   \n",
      "67564   desktop 2018-03-05 20:46:00          9 2018-03-05 20:39:00   \n",
      "274132  desktop 2017-12-02 20:10:00          4 2017-12-02 20:02:00   \n",
      "\n",
      "                         uid        date  week  month  year  \n",
      "329644  16032015834456013554  2018-04-28    17      4  2018  \n",
      "281621   8356984431877168711  2018-01-08     2      1  2018  \n",
      "339474   3996040301981372150  2018-04-17    16      4  2018  \n",
      "67564    1550279980151174578  2018-03-05    10      3  2018  \n",
      "274132    312996254484699129  2017-12-02    48     12  2017  \n"
     ]
    }
   ],
   "source": [
    "# Crear columnas de dia, semana y mes\n",
    "\n",
    "visits['date']=visits['start_ts'].dt.date\n",
    "visits['week']=visits['start_ts'].dt.isocalendar().week \n",
    "visits['month']=visits['start_ts'].dt.month\n",
    "visits['year']=visits['start_ts'].dt.isocalendar().year\n",
    "print(visits.sample(n=5))"
   ]
  },
  {
   "cell_type": "code",
   "execution_count": 1007,
   "id": "b8e1c9f7",
   "metadata": {},
   "outputs": [
    {
     "name": "stdout",
     "output_type": "stream",
     "text": [
      "En promedio 908 usuarios visitaron la plataforma a nivel diario.\n",
      "En promedio 5716 usuarios visitaron la plataforma a nivel semanal.\n",
      "En promedio 23228 usuarios visitaron la plataforma a nivel anual.\n"
     ]
    }
   ],
   "source": [
    "# Usuarios únicos por día\n",
    "daily_users = visits.groupby('date')['uid'].nunique().mean()\n",
    "\n",
    "print(f\"En promedio {round(daily_users)} usuarios visitaron la plataforma a nivel diario.\")\n",
    "\n",
    "# Usuarios únicos por semana\n",
    "wau_total =visits.groupby(['year', 'week'])['uid'].nunique().mean()\n",
    "\n",
    "\n",
    "\n",
    "print(f\"En promedio {round(wau_total)} usuarios visitaron la plataforma a nivel semanal.\")\n",
    "\n",
    "# Usuarios únicos por mes\n",
    "mau_total = visits.groupby(['year','month'])['uid'].nunique().mean()\n",
    "\n",
    "\n",
    "print(f\"En promedio {round(mau_total)} usuarios visitaron la plataforma a nivel anual.\")"
   ]
  },
  {
   "cell_type": "markdown",
   "id": "599c4e3d",
   "metadata": {},
   "source": [
    "- En el análisis del comportamiento de los usuarios, se observa que la plataforma recibió, en promedio, ``908 usuarios únicos`` por día. A nivel semanal, esta cifra se incrementa a ``5,716 usuarios únicos``, lo que indica una recurrencia moderada en el uso del servicio. Finalmente, al analizar el tráfico anual, se identificó un promedio de ``23,228 usuarios únicos``, lo que permite dimensionar el alcance general de la plataforma a lo largo del año."
   ]
  },
  {
   "cell_type": "markdown",
   "id": "f0eb8a8c",
   "metadata": {},
   "source": [
    "## ¿Cuántas sesiones hay por día?"
   ]
  },
  {
   "cell_type": "code",
   "execution_count": 1008,
   "id": "a59df24e",
   "metadata": {},
   "outputs": [
    {
     "name": "stdout",
     "output_type": "stream",
     "text": [
      "En promedio hubo 987 sesiones por dia.\n"
     ]
    }
   ],
   "source": [
    "# Cantidad de sesiones por día\n",
    "daily_sessions = visits.groupby('date')['uid'].count().mean()\n",
    "\n",
    "print(f\"En promedio hubo {round(daily_sessions)} sesiones por dia.\")\n"
   ]
  },
  {
   "cell_type": "markdown",
   "id": "81a8cbe2",
   "metadata": {},
   "source": [
    "- En promedio, se registraron aproximadamente ``987 sesiones diarias en la plataforma``, lo que refleja una actividad constante de los usuarios a lo largo del periodo analizado."
   ]
  },
  {
   "cell_type": "markdown",
   "id": "1f5346c7",
   "metadata": {},
   "source": [
    "## ¿Cuál es la duración de cada sesión?"
   ]
  },
  {
   "cell_type": "code",
   "execution_count": 1009,
   "id": "44ec4eba",
   "metadata": {},
   "outputs": [
    {
     "name": "stdout",
     "output_type": "stream",
     "text": [
      "         device              end_ts  source_id            start_ts  \\\n",
      "120119  desktop 2017-11-15 13:03:00          3 2017-11-15 12:53:00   \n",
      "113397  desktop 2017-12-09 00:24:00          4 2017-12-09 00:20:00   \n",
      "78373   desktop 2018-01-12 17:28:00          1 2018-01-12 16:57:00   \n",
      "79407   desktop 2017-10-08 13:01:00          5 2017-10-08 12:59:00   \n",
      "54685     touch 2018-01-27 22:26:00          1 2018-01-27 22:25:00   \n",
      "342981  desktop 2017-10-04 17:45:00          5 2017-10-04 17:45:00   \n",
      "204610  desktop 2018-01-05 17:14:00          2 2018-01-05 17:12:00   \n",
      "278117  desktop 2017-09-18 12:15:00          3 2017-09-18 12:15:00   \n",
      "90466   desktop 2017-06-22 18:51:00          2 2017-06-22 18:49:00   \n",
      "86207   desktop 2017-09-28 15:08:00          3 2017-09-28 15:07:00   \n",
      "\n",
      "                         uid        date  week  month  year  session_duration  \n",
      "120119  10243629144956210270  2017-11-15    46     11  2017              10.0  \n",
      "113397  15452481774136227755  2017-12-09    49     12  2017               4.0  \n",
      "78373   12808571177955962748  2018-01-12     2      1  2018              31.0  \n",
      "79407   14461753015383290493  2017-10-08    40     10  2017               2.0  \n",
      "54685    6264063680107836503  2018-01-27     4      1  2018               1.0  \n",
      "342981   4163456584458640172  2017-10-04    40     10  2017               0.0  \n",
      "204610   3355555445085324822  2018-01-05     1      1  2018               2.0  \n",
      "278117   5602742954321289283  2017-09-18    38      9  2017               0.0  \n",
      "90466   13546282620690319581  2017-06-22    25      6  2017               2.0  \n",
      "86207   16096304308826210764  2017-09-28    39      9  2017               1.0  \n"
     ]
    },
    {
     "data": {
      "text/plain": [
       "<Axes: >"
      ]
     },
     "execution_count": 1009,
     "metadata": {},
     "output_type": "execute_result"
    },
    {
     "data": {
      "image/png": "[encoded data removed]",
      "text/plain": [
       "<Figure size 640x480 with 1 Axes>"
      ]
     },
     "metadata": {},
     "output_type": "display_data"
    }
   ],
   "source": [
    "# Duracion promedio de cada sesión en minutos \n",
    "\n",
    "visits['session_duration'] = (visits['end_ts'] - visits['start_ts']).dt.seconds/60\n",
    "print(visits.sample(n=10))\n",
    "visits['session_duration'].hist(bins=60)\n",
    "\n",
    "\n"
   ]
  },
  {
   "cell_type": "markdown",
   "id": "6c878662",
   "metadata": {},
   "source": [
    "- Teniendo en cuenta que la distribucion no representan un comportamiento normal se hace necesario recurrir a la 'moda' de los datos para saber con certeza la duracion de cada usuario real."
   ]
  },
  {
   "cell_type": "code",
   "execution_count": 1010,
   "id": "5900b038",
   "metadata": {},
   "outputs": [
    {
     "name": "stdout",
     "output_type": "stream",
     "text": [
      "\n",
      "La duracion promedio de cada sesion es de 11 minutos\n",
      "\n",
      "La duracion en minutos de cada sesion teniendo en cuenta la moda de los datos oscila entre:\n",
      " 0    1.0\n",
      "Name: session_duration, dtype: float64\n"
     ]
    }
   ],
   "source": [
    "# Media y moda de los datos\n",
    " \n",
    "avg_per_day = visits['session_duration'].mean()\n",
    "asl_per_day = visits['session_duration'].mode()\n",
    "\n",
    "print(f\"\\nLa duracion promedio de cada sesion es de {round(avg_per_day)} minutos\")\n",
    "print(f\"\\nLa duracion en minutos de cada sesion teniendo en cuenta la moda de los datos oscila entre:\\n {round(asl_per_day)}\")"
   ]
  },
  {
   "cell_type": "markdown",
   "id": "38dc7d1b",
   "metadata": {},
   "source": [
    "- La duración promedio de cada sesión en la plataforma es de aproximadamente 11 minutos, lo que sugiere que los usuarios dedican un tiempo moderado a navegar o interactuar con el sitio durante cada visita.\n",
    "\n",
    "Por otro lado, al observar la moda de la duración de las sesiones —es decir, la duración más frecuente entre todas las registradas— se encuentra que la mayoría de las sesiones tienden a durar alrededor de 1 minuto. Esto indica que, aunque en promedio los usuarios permanecen 11 minutos, una gran proporción de sesiones son muy breves, lo que podría deberse a visitas rápidas o usuarios que abandonan el sitio sin interactuar mucho.\n",
    "\n",
    "Este contraste entre la media y la moda resalta la importancia de considerar la distribución completa de las duraciones y no solo los valores promedio al evaluar el compromiso de los usuarios."
   ]
  },
  {
   "cell_type": "markdown",
   "id": "5a122ab5",
   "metadata": {},
   "source": [
    "## ¿Con qué frecuencia los usuarios regresan?"
   ]
  }
 ],
 "metadata": {
  "kernelspec": {
   "display_name": "Python 3",
   "language": "python",
   "name": "python3"
  },
  "language_info": {
   "codemirror_mode": {
    "name": "ipython",
    "version": 3
   },
   "file_extension": ".py",
   "mimetype": "text/x-python",
   "name": "python",
   "nbconvert_exporter": "python",
   "pygments_lexer": "ipython3",
   "version": "3.13.0"
  }
 },
 "nbformat": 4,
 "nbformat_minor": 5
}
