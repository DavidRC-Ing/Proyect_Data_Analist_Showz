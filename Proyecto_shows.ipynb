{
 "cells": [
  {
   "cell_type": "markdown",
   "id": "ce107a52",
   "metadata": {},
   "source": [
    "# Proyecto Showz"
   ]
  },
  {
   "cell_type": "markdown",
   "id": "8b9192db",
   "metadata": {},
   "source": [
    "## Introduccion \n",
    "Para el desarrollo de este proyecto, buscamos optimizar los gastos de marketing basando la investigación en el análisis de datos de comportamiento de los usuarios. A su vez, se establecerán cohortes de clientes con el objetivo de entender cómo, cuándo y cuánto aportan a la compañía. Este enfoque nos permitirá identificar patrones de uso, momentos clave en el ciclo de vida del cliente y calcular el retorno de la inversión en adquisición, facilitando así una mejor toma de decisiones estratégicas.\n",
    "\n",
    "Contamos con los registros del servidor con los siguientes datasets:\n",
    "- visits.csv: visitas al sitio (ID, fuente, timestamp, etc.).\n",
    "\n",
    "- orders.csv: pedidos (cliente, fecha, importe, etc.).\n",
    "\n",
    "- costs.csv: gastos de marketing (fecha, canal, inversión)."
   ]
  },
  {
   "cell_type": "markdown",
   "id": "5521f451",
   "metadata": {},
   "source": [
    "# Objetivo General \n",
    "``Optimizar los gastos de marketing entendiendo cómo, cuándo y cuánto aportan los clientes.``"
   ]
  },
  {
   "cell_type": "markdown",
   "id": "18992098",
   "metadata": {},
   "source": [
    "## Descripcion de los datos\n",
    "La tabla `visits` (registros del servidor con datos sobre las visitas al sitio web):\n",
    "\n",
    "- Uid: identificador único del usuario.\n",
    "- Device: dispositivo del usuario.\n",
    "- Start Ts: fecha y hora de inicio de la sesión.\n",
    "- End Ts: fecha y hora de término de la sesión.\n",
    "- Source Id: identificador de la fuente de anuncios de la que proviene el usuario.\n",
    "\n",
    "Todas las fechas de esta tabla están en formato AAAA-MM-DD.\n",
    "\n",
    "La tabla `orders` (datos sobre pedidos):\n",
    "\n",
    "- Uid: identificador único del usuario que realiza un pedido.\n",
    "- Buy Ts: fecha y hora del pedido. Revenue: el ingreso de Showz por el pedido.\n",
    "\n",
    "La tabla `costs` (datos sobre gastos de marketing):\n",
    "\n",
    "- source_id: identificador de la fuente de anuncios.\n",
    "- dt: fecha.\n",
    "- costs: gastos en esta fuente de anuncios en este día."
   ]
  },
  {
   "cell_type": "code",
   "execution_count": 3808,
   "id": "65c4a1fd",
   "metadata": {},
   "outputs": [],
   "source": [
    "# Cargar todas las librerias\n",
    "import pandas as pd \n",
    "import seaborn as sns\n",
    "import matplotlib.pyplot as plt\n",
    "import numpy as np"
   ]
  },
  {
   "cell_type": "code",
   "execution_count": 3809,
   "id": "87f22a94",
   "metadata": {},
   "outputs": [],
   "source": [
    "# Designar las variables de los Dataframe \n",
    "visits= pd.read_csv('/Users/ASUS/OneDrive/Documentos/Tripleten/Proyecto Spring 9/visits_log_us.csv', sep=',') \n",
    "orders=pd.read_csv('/Users/ASUS/OneDrive/Documentos/Tripleten/Proyecto Spring 9/orders_log_us.csv', sep=',')\n",
    "costs=pd.read_csv('/Users/ASUS/OneDrive/Documentos/Tripleten/Proyecto Spring 9/costs_us.csv', sep=',')"
   ]
  },
  {
   "cell_type": "markdown",
   "id": "cd1c87fd",
   "metadata": {},
   "source": [
    "## Nombres asignados a los DataFrames\n",
    "\n",
    "Para garantizar un desarrollo estructurado y eficiente del proyecto, se asignaron nombres descriptivos a los *DataFrames* generados a partir de las consultas a los servidores. Esta práctica permite mantener un flujo de trabajo organizado y facilita la interpretación de los resultados en las distintas etapas del análisis. Las asignaciones realizadas son las siguientes:\n",
    "\n",
    "- `visits`: corresponde al resultado de la consulta `visits_log_us`.\n",
    "- `orders`: corresponde al resultado de la consulta `orders_log_us`.\n",
    "- `costs`: corresponde al resultado de la consulta `costs_us`.\n",
    "\n",
    "A continuación, el análisis exploratorio de los datos.\n"
   ]
  },
  {
   "cell_type": "code",
   "execution_count": 3810,
   "id": "bc2497dd",
   "metadata": {},
   "outputs": [
    {
     "name": "stdout",
     "output_type": "stream",
     "text": [
      "<class 'pandas.core.frame.DataFrame'>\n",
      "RangeIndex: 359400 entries, 0 to 359399\n",
      "Data columns (total 5 columns):\n",
      " #   Column     Non-Null Count   Dtype \n",
      "---  ------     --------------   ----- \n",
      " 0   Device     359400 non-null  object\n",
      " 1   End Ts     359400 non-null  object\n",
      " 2   Source Id  359400 non-null  int64 \n",
      " 3   Start Ts   359400 non-null  object\n",
      " 4   Uid        359400 non-null  uint64\n",
      "dtypes: int64(1), object(3), uint64(1)\n",
      "memory usage: 13.7+ MB\n",
      "\n",
      "          Device               End Ts  Source Id             Start Ts  \\\n",
      "83642   desktop  2018-05-08 22:24:00          4  2018-05-08 22:18:00   \n",
      "318988  desktop  2018-02-05 22:24:00          3  2018-02-05 22:23:00   \n",
      "108028  desktop  2017-08-09 12:16:00          5  2017-08-09 11:47:00   \n",
      "253362    touch  2018-02-15 11:47:00          4  2018-02-15 11:41:00   \n",
      "256617  desktop  2017-10-03 11:48:00         10  2017-10-03 11:47:00   \n",
      "\n",
      "                         Uid  \n",
      "83642    6574488256926126490  \n",
      "318988  14021961945829555911  \n",
      "108028   3228904579444540333  \n",
      "253362   1454396675389986301  \n",
      "256617   1217449152691268102  \n"
     ]
    }
   ],
   "source": [
    "# Visualizacion preliminar de los dataframes:\n",
    "\n",
    "visits.info()\n",
    "\n",
    "# estandarizar datos:\n",
    "for col in visits.select_dtypes(include='object'):\n",
    "    visits[col] = visits[col].str.lower()\n",
    "\n",
    "print('\\n', visits.sample(n=5))\n"
   ]
  },
  {
   "cell_type": "code",
   "execution_count": 3811,
   "id": "62c33631",
   "metadata": {},
   "outputs": [
    {
     "name": "stdout",
     "output_type": "stream",
     "text": [
      "<class 'pandas.core.frame.DataFrame'>\n",
      "RangeIndex: 50415 entries, 0 to 50414\n",
      "Data columns (total 3 columns):\n",
      " #   Column   Non-Null Count  Dtype  \n",
      "---  ------   --------------  -----  \n",
      " 0   Buy Ts   50415 non-null  object \n",
      " 1   Revenue  50415 non-null  float64\n",
      " 2   Uid      50415 non-null  uint64 \n",
      "dtypes: float64(1), object(1), uint64(1)\n",
      "memory usage: 1.2+ MB\n",
      "\n",
      "                     Buy Ts  Revenue                   Uid\n",
      "17618  2017-11-15 11:37:00     1.83   6111240346918455958\n",
      "32548  2018-02-02 10:14:00     1.75   4575763306520249909\n",
      "44446  2018-04-17 21:58:00     6.11  10107842341766707735\n",
      "7777   2017-09-14 15:52:00    12.22  18277424335970395267\n",
      "34469  2018-02-13 07:02:00     0.61   9535740253260069511\n"
     ]
    }
   ],
   "source": [
    "# Visualizacion preliminar de los dataframes:\n",
    "\n",
    "orders.info()\n",
    "\n",
    "print('\\n', orders.sample(n=5))"
   ]
  },
  {
   "cell_type": "code",
   "execution_count": 3812,
   "id": "01d2c79d",
   "metadata": {},
   "outputs": [
    {
     "name": "stdout",
     "output_type": "stream",
     "text": [
      "<class 'pandas.core.frame.DataFrame'>\n",
      "RangeIndex: 2542 entries, 0 to 2541\n",
      "Data columns (total 3 columns):\n",
      " #   Column     Non-Null Count  Dtype  \n",
      "---  ------     --------------  -----  \n",
      " 0   source_id  2542 non-null   int64  \n",
      " 1   dt         2542 non-null   object \n",
      " 2   costs      2542 non-null   float64\n",
      "dtypes: float64(1), int64(1), object(1)\n",
      "memory usage: 59.7+ KB\n",
      "\n",
      "       source_id          dt   costs\n",
      "241           1  2018-01-28   61.70\n",
      "605           2  2018-01-29  270.67\n",
      "1364          4  2018-03-03    6.31\n",
      "2042          9  2018-01-13   16.15\n",
      "114           1  2017-09-23   18.34\n"
     ]
    }
   ],
   "source": [
    "# Visualizacion preliminar de los dataframes:\n",
    "\n",
    "costs.info()\n",
    "\n",
    "print('\\n', costs.sample(n=5))"
   ]
  },
  {
   "cell_type": "markdown",
   "id": "dd854a93",
   "metadata": {},
   "source": [
    "## Correcion de tipo de datos"
   ]
  },
  {
   "cell_type": "markdown",
   "id": "db1e7ca5",
   "metadata": {},
   "source": [
    "Dado que la naturaleza de los datos requiere un procesamiento adecuado, es fundamental contar con una estructura organizada y coherente. Por esta razón, se ha llevado a cabo una reorganización estratégica de los conjuntos de datos, lo cual permitirá facilitar su análisis en cada etapa del proyecto. A continuación, se detallan las transformaciones realizadas específicamente en los dataframes visits, orders y costs:\n",
    "\n",
    "- En ``visits``, se renombran las columnas para eliminar espacios y facilitar el manejo del código (Start Ts a start_ts, End Ts a end_ts, etc.), y se convierten las columnas de fechas al formato datetime.\n",
    "\n",
    "- En ``orders``, se transforma la columna Buy Ts a buy_ts y se asegura que los ingresos (revenue) estén en el tipo numérico correcto.\n",
    "\n",
    "- En ``costs``, se homogeneizan los nombres (dt para la fecha, costs para los gastos) y se convierte la columna de fechas a datetime.\n",
    "\n",
    "Esta preparación garantiza que los datos estén listos para los análisis de comportamiento, cohortes y rentabilidad que se desarrollarán a lo largo del proyecto."
   ]
  },
  {
   "cell_type": "code",
   "execution_count": 3813,
   "id": "b083614b",
   "metadata": {},
   "outputs": [
    {
     "name": "stdout",
     "output_type": "stream",
     "text": [
      "device               object\n",
      "end_ts       datetime64[ns]\n",
      "source_id             int64\n",
      "start_ts     datetime64[ns]\n",
      "uid                  uint64\n",
      "dtype: object\n",
      "buy_ts     datetime64[ns]\n",
      "revenue           float64\n",
      "uid                uint64\n",
      "dtype: object\n",
      "source_id             int64\n",
      "dt           datetime64[ns]\n",
      "costs               float64\n",
      "dtype: object\n"
     ]
    }
   ],
   "source": [
    "# Renombrar columnas para que sean más fáciles de manejar\n",
    "\n",
    "visits.columns = ['device','end_ts', 'source_id','start_ts','uid']\n",
    "orders.columns = ['buy_ts', 'revenue','uid']\n",
    "costs.columns = ['source_id', 'dt', 'costs']\n",
    "\n",
    "## Convertir fechas a datetime\n",
    "\n",
    "visits['start_ts']=pd.to_datetime(visits['start_ts'])\n",
    "visits['end_ts']=pd.to_datetime(visits['end_ts'])\n",
    "\n",
    "orders['buy_ts']=pd.to_datetime(orders['buy_ts'])\n",
    "\n",
    "costs['dt']=pd.to_datetime(costs['dt'])\n",
    "\n",
    "# Revisar los tipos\n",
    "print(visits.dtypes)\n",
    "print(orders.dtypes)\n",
    "print(costs.dtypes)\n",
    "\n"
   ]
  },
  {
   "cell_type": "markdown",
   "id": "7d658d47",
   "metadata": {},
   "source": [
    "# Visitas"
   ]
  },
  {
   "cell_type": "markdown",
   "id": "1f5754ee",
   "metadata": {},
   "source": [
    "## ¿Cuántas personas lo usan cada día, semana y mes?"
   ]
  },
  {
   "cell_type": "markdown",
   "id": "7c8416a0",
   "metadata": {},
   "source": [
    "- Se tiene que implementar una clasificación de las fechas para establecer la cantidad de personas y calcular un promedio mensual, semanal y diario con fines de análisis."
   ]
  },
  {
   "cell_type": "code",
   "execution_count": 3814,
   "id": "e6ee2316",
   "metadata": {},
   "outputs": [
    {
     "name": "stdout",
     "output_type": "stream",
     "text": [
      "         device              end_ts  source_id            start_ts  \\\n",
      "154317  desktop 2017-08-31 12:32:00          3 2017-08-31 12:13:00   \n",
      "221063  desktop 2018-02-17 12:01:00          4 2018-02-17 11:33:00   \n",
      "116726  desktop 2017-11-28 18:09:00          1 2017-11-28 18:05:00   \n",
      "191137  desktop 2018-05-25 13:40:00          5 2018-05-25 12:01:00   \n",
      "231473  desktop 2017-12-05 15:00:00          5 2017-12-05 14:56:00   \n",
      "\n",
      "                         uid        date  week  month  year  \n",
      "154317  11642583697037470317  2017-08-31    35      8  2017  \n",
      "221063   6996285297246048988  2018-02-17     7      2  2018  \n",
      "116726    991061351213707617  2017-11-28    48     11  2017  \n",
      "191137  13482259146982443019  2018-05-25    21      5  2018  \n",
      "231473  16259624672078593322  2017-12-05    49     12  2017  \n"
     ]
    }
   ],
   "source": [
    "# Crear columnas de dia, semana y mes\n",
    "\n",
    "visits['date']=visits['start_ts'].dt.date\n",
    "visits['week']=visits['start_ts'].dt.isocalendar().week \n",
    "visits['month']=visits['start_ts'].dt.month\n",
    "visits['year']=visits['start_ts'].dt.isocalendar().year\n",
    "print(visits.sample(n=5))"
   ]
  },
  {
   "cell_type": "code",
   "execution_count": 3815,
   "id": "b8e1c9f7",
   "metadata": {},
   "outputs": [
    {
     "name": "stdout",
     "output_type": "stream",
     "text": [
      "En promedio 908 usuarios visitaron la plataforma a nivel diario.\n",
      "En promedio 5716 usuarios visitaron la plataforma a nivel semanal.\n",
      "En promedio 23228 usuarios visitaron la plataforma a nivel anual.\n"
     ]
    }
   ],
   "source": [
    "# Usuarios únicos por día\n",
    "daily_users = visits.groupby('date')['uid'].nunique().mean()\n",
    "\n",
    "print(f\"En promedio {round(daily_users)} usuarios visitaron la plataforma a nivel diario.\")\n",
    "\n",
    "# Usuarios únicos por semana\n",
    "wau_total =visits.groupby(['year', 'week'])['uid'].nunique().mean()\n",
    "\n",
    "\n",
    "\n",
    "print(f\"En promedio {round(wau_total)} usuarios visitaron la plataforma a nivel semanal.\")\n",
    "\n",
    "# Usuarios únicos por mes\n",
    "mau_total = visits.groupby(['year','month'])['uid'].nunique().mean()\n",
    "\n",
    "\n",
    "print(f\"En promedio {round(mau_total)} usuarios visitaron la plataforma a nivel anual.\")"
   ]
  },
  {
   "cell_type": "markdown",
   "id": "599c4e3d",
   "metadata": {},
   "source": [
    "- En el análisis del comportamiento de los usuarios, se observa que la plataforma recibió, en promedio, ``908 usuarios únicos`` por día. A nivel semanal, esta cifra se incrementa a ``5,716 usuarios únicos``, lo que indica una recurrencia moderada en el uso del servicio. Finalmente, al analizar el tráfico anual, se identificó un promedio de ``23,228 usuarios únicos``, lo que permite dimensionar el alcance general de la plataforma a lo largo del año."
   ]
  },
  {
   "cell_type": "markdown",
   "id": "f0eb8a8c",
   "metadata": {},
   "source": [
    "## ¿Cuántas sesiones hay por día?"
   ]
  },
  {
   "cell_type": "code",
   "execution_count": 3816,
   "id": "a59df24e",
   "metadata": {},
   "outputs": [
    {
     "name": "stdout",
     "output_type": "stream",
     "text": [
      "En promedio hubo 987 sesiones por dia.\n"
     ]
    }
   ],
   "source": [
    "# Cantidad de sesiones por día\n",
    "daily_sessions = visits.groupby('date')['uid'].count().mean()\n",
    "\n",
    "print(f\"En promedio hubo {round(daily_sessions)} sesiones por dia.\")\n"
   ]
  },
  {
   "cell_type": "markdown",
   "id": "81a8cbe2",
   "metadata": {},
   "source": [
    "- En promedio, se registraron aproximadamente ``987 sesiones diarias en la plataforma``, lo que refleja una actividad constante de los usuarios a lo largo del periodo analizado."
   ]
  },
  {
   "cell_type": "markdown",
   "id": "1f5346c7",
   "metadata": {},
   "source": [
    "## ¿Cuál es la duración de cada sesión?"
   ]
  },
  {
   "cell_type": "code",
   "execution_count": 3817,
   "id": "44ec4eba",
   "metadata": {},
   "outputs": [
    {
     "name": "stdout",
     "output_type": "stream",
     "text": [
      "         device              end_ts  source_id            start_ts  \\\n",
      "202115  desktop 2017-11-12 09:38:00          4 2017-11-12 09:34:00   \n",
      "212355  desktop 2018-01-30 16:47:00          4 2018-01-30 16:46:00   \n",
      "46481     touch 2018-02-22 17:21:00          1 2018-02-22 17:15:00   \n",
      "269801  desktop 2017-09-18 12:17:00          3 2017-09-18 12:16:00   \n",
      "262830  desktop 2018-01-26 18:18:00          2 2018-01-26 18:17:00   \n",
      "97037   desktop 2017-11-23 09:56:00          3 2017-11-23 09:54:00   \n",
      "255956  desktop 2018-05-20 19:41:00          4 2018-05-20 19:27:00   \n",
      "119761  desktop 2018-05-10 17:05:00          4 2018-05-10 16:57:00   \n",
      "220837  desktop 2017-11-01 21:18:00          4 2017-11-01 21:16:00   \n",
      "46628   desktop 2018-05-22 06:33:00          5 2018-05-22 06:32:00   \n",
      "\n",
      "                         uid        date  week  month  year  session_duration  \n",
      "202115   2896661251007774571  2017-11-12    45     11  2017               4.0  \n",
      "212355   7328200534609479258  2018-01-30     5      1  2018               1.0  \n",
      "46481    4347749241459924210  2018-02-22     8      2  2018               6.0  \n",
      "269801  10680571836755697112  2017-09-18    38      9  2017               1.0  \n",
      "262830   2323143458723816816  2018-01-26     4      1  2018               1.0  \n",
      "97037    4836098555431225773  2017-11-23    47     11  2017               2.0  \n",
      "255956   4979642422318346657  2018-05-20    20      5  2018              14.0  \n",
      "119761   9264439865176510955  2018-05-10    19      5  2018               8.0  \n",
      "220837   6316750178489613166  2017-11-01    44     11  2017               2.0  \n",
      "46628   14783718224853574516  2018-05-22    21      5  2018               1.0  \n"
     ]
    },
    {
     "data": {
      "text/plain": [
       "<Axes: >"
      ]
     },
     "execution_count": 3817,
     "metadata": {},
     "output_type": "execute_result"
    },
    {
     "data": {
      "image/png": "[encoded data removed]",
      "text/plain": [
       "<Figure size 640x480 with 1 Axes>"
      ]
     },
     "metadata": {},
     "output_type": "display_data"
    }
   ],
   "source": [
    "# Duracion promedio de cada sesión en minutos \n",
    "\n",
    "visits['session_duration'] = (visits['end_ts'] - visits['start_ts']).dt.seconds/60\n",
    "print(visits.sample(n=10))\n",
    "visits['session_duration'].hist(bins=60)\n",
    "\n",
    "\n"
   ]
  },
  {
   "cell_type": "markdown",
   "id": "6c878662",
   "metadata": {},
   "source": [
    "- Teniendo en cuenta que la distribucion no representan un comportamiento normal se hace necesario recurrir a la 'moda' de los datos para saber con certeza la duracion de cada usuario real."
   ]
  },
  {
   "cell_type": "code",
   "execution_count": 3818,
   "id": "5900b038",
   "metadata": {},
   "outputs": [
    {
     "name": "stdout",
     "output_type": "stream",
     "text": [
      "\n",
      "La duracion promedio de cada sesion es de 11 minutos\n",
      "\n",
      "La duracion en minutos de cada sesion teniendo en cuenta la moda de los datos oscila entre:\n",
      " 0    1.0\n",
      "Name: session_duration, dtype: float64\n"
     ]
    }
   ],
   "source": [
    "# Media y moda de los datos\n",
    " \n",
    "avg_per_day = visits['session_duration'].mean()\n",
    "asl_per_day = visits['session_duration'].mode()\n",
    "\n",
    "print(f\"\\nLa duracion promedio de cada sesion es de {round(avg_per_day)} minutos\")\n",
    "print(f\"\\nLa duracion en minutos de cada sesion teniendo en cuenta la moda de los datos oscila entre:\\n {round(asl_per_day)}\")"
   ]
  },
  {
   "cell_type": "markdown",
   "id": "38dc7d1b",
   "metadata": {},
   "source": [
    "- La duración promedio de cada sesión en la plataforma es de aproximadamente 11 minutos, lo que sugiere que los usuarios dedican un tiempo moderado a navegar o interactuar con el sitio durante cada visita.\n",
    "\n",
    "Por otro lado, al observar la moda de la duración de las sesiones —es decir, la duración más frecuente entre todas las registradas— se encuentra que la mayoría de las sesiones tienden a durar alrededor de 1 minuto. Esto indica que, aunque en promedio los usuarios permanecen 11 minutos, una gran proporción de sesiones son muy breves, lo que podría deberse a visitas rápidas o usuarios que abandonan el sitio sin interactuar mucho.\n",
    "\n",
    "Este contraste entre la media y la moda resalta la importancia de considerar la distribución completa de las duraciones y no solo los valores promedio al evaluar el compromiso de los usuarios."
   ]
  },
  {
   "cell_type": "markdown",
   "id": "5a122ab5",
   "metadata": {},
   "source": [
    "## ¿Con qué frecuencia los usuarios regresan?"
   ]
  },
  {
   "cell_type": "markdown",
   "id": "17a646a7",
   "metadata": {},
   "source": [
    "- Para el análisis de la frecuencia de usuarios que regresan, se considerará cuidadosamente el factor \"sticky\", una métrica comúnmente empleada para evaluar el compromiso del usuario. Específicamente, se calcularán los indicadores sticky semanal y mensual, los cuales serán fundamentales para el análisis del comportamiento y la retención de los usuarios en la plataforma "
   ]
  },
  {
   "cell_type": "code",
   "execution_count": 3819,
   "id": "21c1b6b0",
   "metadata": {},
   "outputs": [
    {
     "name": "stdout",
     "output_type": "stream",
     "text": [
      "sticky_wau 15.88440861589881\n",
      "sticky_mau 3.908969652437603\n"
     ]
    }
   ],
   "source": [
    "# Factor semanal y mensual \n",
    "\n",
    "sticky_wau=(daily_users/wau_total)*100\n",
    "sticky_mau=(daily_users/mau_total)*100\n",
    "\n",
    "print('sticky_wau',sticky_wau)\n",
    "print('sticky_mau',sticky_mau)"
   ]
  },
  {
   "cell_type": "markdown",
   "id": "3694166f",
   "metadata": {},
   "source": [
    "- ``Sticky semanal = 15.88%``\n",
    "\n",
    "    Esto significa que, en promedio, el 15.88% de los usuarios semanales utilizan la plataforma a diario.\n",
    "\n",
    "    En otras palabras, de cada 100 usuarios activos en una semana, solo unos 16 usuarios usan el servicio todos los días.\n",
    "\n",
    "- ``Sticky mensual = 3.91%``\n",
    "\n",
    "    Esto quiere decir que solo el 3.91% de los usuarios activos en un mes están en la plataforma todos los días.\n",
    "\n",
    "    O sea, de cada 100 usuarios mensuales, menos de 4 son realmente activos todos los días."
   ]
  },
  {
   "cell_type": "markdown",
   "id": "1212d128",
   "metadata": {},
   "source": [
    "# Ventas"
   ]
  },
  {
   "cell_type": "markdown",
   "id": "c4278ec0",
   "metadata": {},
   "source": [
    "## ¿Cuándo empieza la gente a comprar?"
   ]
  },
  {
   "cell_type": "code",
   "execution_count": 3820,
   "id": "aa8a13bf",
   "metadata": {},
   "outputs": [
    {
     "name": "stdout",
     "output_type": "stream",
     "text": [
      "               buy_ts  revenue                   uid      first_buy_date  \\\n",
      "0 2017-06-01 00:10:00    17.00  10329302124590727494 2017-06-01 00:10:00   \n",
      "1 2017-06-01 00:25:00     0.55  11627257723692907447 2017-06-01 00:25:00   \n",
      "2 2017-06-01 00:27:00     0.37  17903680561304213844 2017-06-01 00:27:00   \n",
      "3 2017-06-01 00:29:00     0.55  16109239769442553005 2017-06-01 00:29:00   \n",
      "4 2017-06-01 07:58:00     0.37  14200605875248379450 2017-06-01 07:58:00   \n",
      "5 2017-06-01 08:43:00     0.18  10402394430196413321 2017-06-01 08:43:00   \n",
      "6 2017-06-01 08:54:00     1.83  12464626743129688638 2017-06-01 08:54:00   \n",
      "7 2017-06-01 09:22:00     1.22   3644482766749211722 2017-06-01 09:22:00   \n",
      "8 2017-06-01 09:22:00     3.30  17542070709969841479 2017-06-01 09:22:00   \n",
      "9 2017-06-01 09:23:00     0.37   1074355127080856382 2017-06-01 09:23:00   \n",
      "\n",
      "   first_buy_month  first_buy_year  buy_ts_month  \n",
      "0                6            2017             6  \n",
      "1                6            2017             6  \n",
      "2                6            2017             6  \n",
      "3                6            2017             6  \n",
      "4                6            2017             6  \n",
      "5                6            2017             6  \n",
      "6                6            2017             6  \n",
      "7                6            2017             6  \n",
      "8                6            2017             6  \n",
      "9                6            2017             6  \n",
      "    device              end_ts  source_id            start_ts  \\\n",
      "0  desktop 2018-05-20 11:23:00          9 2018-05-20 10:59:00   \n",
      "1  desktop 2017-09-03 21:36:00          5 2017-09-03 21:35:00   \n",
      "2  desktop 2017-09-03 21:36:00          5 2017-09-03 21:35:00   \n",
      "3  desktop 2017-09-03 21:36:00          5 2017-09-03 21:35:00   \n",
      "4  desktop 2018-02-06 15:50:00          4 2018-02-06 15:45:00   \n",
      "\n",
      "                    uid        date  week  month  year  session_duration  \\\n",
      "0  16174680259334210214  2018-05-20    20      5  2018              24.0   \n",
      "1  16007536194108375387  2017-09-03    35      9  2017               1.0   \n",
      "2  16007536194108375387  2017-09-03    35      9  2017               1.0   \n",
      "3  16007536194108375387  2017-09-03    35      9  2017               1.0   \n",
      "4   8056418121947262981  2018-02-06     6      2  2018               5.0   \n",
      "\n",
      "     first_visit_date              buy_ts  revenue      first_buy_date  \\\n",
      "0 2018-03-09 20:05:00 2018-03-09 20:25:00     2.33 2018-03-09 20:25:00   \n",
      "1 2017-09-03 21:35:00 2017-09-04 12:46:00     2.44 2017-09-04 12:46:00   \n",
      "2 2017-09-03 21:35:00 2017-10-28 00:01:00     1.53 2017-09-04 12:46:00   \n",
      "3 2017-09-03 21:35:00 2017-10-28 19:16:00     1.53 2017-09-04 12:46:00   \n",
      "4 2017-06-04 14:17:00 2017-06-25 08:54:00     3.67 2017-06-25 08:54:00   \n",
      "\n",
      "   first_buy_month  first_buy_year  buy_ts_month  conversion_days  \n",
      "0                3            2018             3                0  \n",
      "1                9            2017             9                0  \n",
      "2                9            2017            10                0  \n",
      "3                9            2017            10                0  \n",
      "4                6            2017             6               20  \n",
      "conversion_category\n",
      "Conversion 0d     26363\n",
      "Conversion 1d      1011\n",
      "Conversion 2d       563\n",
      "Conversion 3d       434\n",
      "Conversion 4d       324\n",
      "Conversion 5d       270\n",
      "Conversion 6d       260\n",
      "Conversion 7d       218\n",
      "Conversion 8d       189\n",
      "Conversion 10d      140\n",
      "Name: uid, dtype: int64\n"
     ]
    },
    {
     "data": {
      "image/png": "[encoded data removed]",
      "text/plain": [
       "<Figure size 1200x600 with 1 Axes>"
      ]
     },
     "metadata": {},
     "output_type": "display_data"
    }
   ],
   "source": [
    "# Creacion de columnas \n",
    "first_visit_date = visits.groupby('uid')['start_ts'].min()\n",
    "first_order_date= orders.groupby('uid')['buy_ts'].min()\n",
    "\n",
    "# Renombrar las columnas\n",
    "first_visit_date.name ='first_visit_date'\n",
    "first_order_date.name ='first_buy_date'\n",
    "\n",
    "# Unir a los dataframes\n",
    "visits = visits.join(first_visit_date, on='uid')\n",
    "orders=orders.join(first_order_date, on='uid')\n",
    "\n",
    "# Mes de la primera compra\n",
    "\n",
    "orders['first_buy_month'] = orders['first_buy_date'].dt.month\n",
    "orders['first_buy_year'] = orders['first_buy_date'].dt.year\n",
    "orders['buy_ts_month'] = orders['buy_ts'].dt.month\n",
    "\n",
    "print(orders.head(10))\n",
    "\n",
    "# dia de conversion \n",
    "orders_visits = pd.merge(visits, orders, on='uid')\n",
    "orders_visits['conversion_days'] = (orders_visits['first_buy_date'] - orders_visits['first_visit_date']).dt.days\n",
    "print(orders_visits.head(5))\n",
    "orders_visits['conversion_category'] = 'Conversion ' + orders_visits['conversion_days'].astype(str) + 'd'\n",
    "conversion_day= orders_visits.groupby('conversion_category')['uid'].nunique().sort_values(ascending=False)\n",
    "conversion_day_top10=conversion_day.head(10)\n",
    "\n",
    "print(conversion_day.head(10))\n",
    "\n",
    "\n",
    "# Grafica de conversion \n",
    "\n",
    "plt.figure(figsize=(12,6))\n",
    "plt.bar(conversion_day_top10.index, conversion_day_top10.values, color='skyblue')\n",
    "\n",
    "# Títulos y etiquetas\n",
    "plt.title('Usuarios por Categoría de Conversión', fontsize=16)\n",
    "plt.xlabel('Categoría de Conversión (días)', fontsize=14)\n",
    "plt.ylabel('Cantidad de Usuarios', fontsize=14)\n",
    "plt.xticks(rotation=45)  # Rotar las etiquetas para que se lean mejor\n",
    "plt.grid(axis='y', linestyle='--', alpha=0.7)\n",
    "\n",
    "# Mostrar gráfico\n",
    "plt.show()\n",
    "\n"
   ]
  },
  {
   "cell_type": "markdown",
   "id": "9cb06cdb",
   "metadata": {},
   "source": [
    "## ¿Cuántos pedidos hacen durante un período de tiempo dado?"
   ]
  },
  {
   "cell_type": "code",
   "execution_count": 3821,
   "id": "a561f12e",
   "metadata": {},
   "outputs": [
    {
     "name": "stdout",
     "output_type": "stream",
     "text": [
      "                  uid    revenue  buy_ts\n",
      "first_buy_month                         \n",
      "1                3373  181362.28   32393\n",
      "2                3651   89378.45   22518\n",
      "3                3533  401114.22   47916\n",
      "4                2276   84302.22   11340\n",
      "5                2988   35600.77    7579\n",
      "6                   1       3.42       1\n",
      "\n",
      " 20291.166666666668\n"
     ]
    },
    {
     "data": {
      "image/png": "[encoded data removed]",
      "text/plain": [
       "<Figure size 1000x600 with 1 Axes>"
      ]
     },
     "metadata": {},
     "output_type": "display_data"
    }
   ],
   "source": [
    "# cohorte_2018\n",
    "orders_2018 = orders_visits[orders_visits['first_buy_year'] == 2018].reset_index()\n",
    "\n",
    "cohort_grouped = orders_2018.groupby('first_buy_month').agg(\n",
    "    {'uid': 'nunique', 'revenue': 'sum','buy_ts':'count'})\n",
    "\n",
    "print(cohort_grouped)\n",
    "\n",
    "avg_orders_2028=cohort_grouped['buy_ts'].mean()\n",
    "\n",
    "print( '\\n', avg_orders_2028 )\n",
    "\n",
    "# grafico \n",
    "\n",
    "plt.figure(figsize=(10, 6))\n",
    "plt.bar(cohort_grouped.index, cohort_grouped['buy_ts'], color='skyblue')\n",
    "\n",
    "# Títulos y etiquetas\n",
    "plt.title('Cantidad de Pedidos por Mes en 2018', fontsize=16)\n",
    "plt.xlabel('Mes de la Primera Compra', fontsize=14)\n",
    "plt.ylabel('Número de Pedidos', fontsize=14)\n",
    "\n",
    "# Mostrar los valores en las barras (opcional, más pro)\n",
    "for index, value in enumerate(cohort_grouped['buy_ts']):\n",
    "    plt.text(cohort_grouped.index[index], value + 5, str(value), ha='center', fontsize=10)\n",
    "\n",
    "# Mostrar la gráfica\n",
    "plt.xticks(cohort_grouped.index)\n",
    "plt.grid(axis='y', linestyle='--', alpha=0.7)\n",
    "plt.show()\n",
    "\n"
   ]
  },
  {
   "cell_type": "markdown",
   "id": "f23a4cbb",
   "metadata": {},
   "source": [
    "## ¿Cuál es el tamaño promedio de compra?"
   ]
  },
  {
   "cell_type": "code",
   "execution_count": 3822,
   "id": "cafc9e99",
   "metadata": {},
   "outputs": [
    {
     "name": "stdout",
     "output_type": "stream",
     "text": [
      "                      AOV\n",
      "first_buy_month          \n",
      "1                5.598811\n",
      "2                3.969200\n",
      "3                8.371196\n",
      "4                7.434058\n",
      "5                4.697291\n",
      "6                3.420000\n"
     ]
    }
   ],
   "source": [
    "cohort_grouped['AOV'] = cohort_grouped['revenue'] / cohort_grouped['buy_ts']\n",
    "\n",
    "# Mostrar la tabla con el AOV\n",
    "print(cohort_grouped[['AOV']])"
   ]
  },
  {
   "cell_type": "markdown",
   "id": "de966706",
   "metadata": {},
   "source": [
    "## ¿Cuánto dinero traen? (LTV)"
   ]
  },
  {
   "cell_type": "code",
   "execution_count": 3823,
   "id": "1e5eee0e",
   "metadata": {},
   "outputs": [
    {
     "name": "stdout",
     "output_type": "stream",
     "text": [
      "   first_buy_months  n_buyers  buy_month    revenue         gp  age        ltv\n",
      "0        2018-01-01      3373 2018-01-01   63783.17  31891.585    0   9.454961\n",
      "1        2018-01-01      3373 2018-02-01   41390.72  20695.360    1   6.135594\n",
      "2        2018-01-01      3373 2018-03-01   53406.44  26703.220    2   7.916757\n",
      "3        2018-01-01      3373 2018-04-01   14386.59   7193.295    3   2.132610\n",
      "4        2018-01-01      3373 2018-05-01    8395.36   4197.680    4   1.244495\n",
      "5        2018-02-01      3651 2018-02-01   46827.12  23413.560    0   6.412917\n",
      "6        2018-02-01      3651 2018-03-01   25339.24  12669.620    1   3.470178\n",
      "7        2018-02-01      3651 2018-04-01   10010.64   5005.320    2   1.370945\n",
      "8        2018-02-01      3651 2018-05-01    7201.45   3600.725    3   0.986230\n",
      "9        2018-03-01      3533 2018-03-01  176797.15  88398.575    0  25.020825\n",
      "10       2018-03-01      3533 2018-04-01  143062.11  71531.055    1  20.246548\n",
      "11       2018-03-01      3533 2018-05-01   81254.96  40627.480    2  11.499428\n",
      "12       2018-04-01      2276 2018-04-01   39756.01  19878.005    0   8.733746\n",
      "13       2018-04-01      2276 2018-05-01   44546.21  22273.105    1   9.786074\n",
      "14       2018-05-01      2988 2018-05-01   35600.77  17800.385    0   5.957291\n",
      "15       2018-06-01         1 2018-06-01       3.42      1.710    0   1.710000\n"
     ]
    },
    {
     "data": {
      "text/html": [
       "<div>\n",
       "<style scoped>\n",
       "    .dataframe tbody tr th:only-of-type {\n",
       "        vertical-align: middle;\n",
       "    }\n",
       "\n",
       "    .dataframe tbody tr th {\n",
       "        vertical-align: top;\n",
       "    }\n",
       "\n",
       "    .dataframe thead th {\n",
       "        text-align: right;\n",
       "    }\n",
       "</style>\n",
       "<table border=\"1\" class=\"dataframe\">\n",
       "  <thead>\n",
       "    <tr style=\"text-align: right;\">\n",
       "      <th>age</th>\n",
       "      <th>0</th>\n",
       "      <th>1</th>\n",
       "      <th>2</th>\n",
       "      <th>3</th>\n",
       "      <th>4</th>\n",
       "    </tr>\n",
       "    <tr>\n",
       "      <th>first_buy_months</th>\n",
       "      <th></th>\n",
       "      <th></th>\n",
       "      <th></th>\n",
       "      <th></th>\n",
       "      <th></th>\n",
       "    </tr>\n",
       "  </thead>\n",
       "  <tbody>\n",
       "    <tr>\n",
       "      <th>2018-01-01</th>\n",
       "      <td>9.454961</td>\n",
       "      <td>6.135594</td>\n",
       "      <td>7.916757</td>\n",
       "      <td>2.13261</td>\n",
       "      <td>1.244495</td>\n",
       "    </tr>\n",
       "    <tr>\n",
       "      <th>2018-02-01</th>\n",
       "      <td>6.412917</td>\n",
       "      <td>3.470178</td>\n",
       "      <td>1.370945</td>\n",
       "      <td>0.98623</td>\n",
       "      <td></td>\n",
       "    </tr>\n",
       "    <tr>\n",
       "      <th>2018-03-01</th>\n",
       "      <td>25.020825</td>\n",
       "      <td>20.246548</td>\n",
       "      <td>11.499428</td>\n",
       "      <td></td>\n",
       "      <td></td>\n",
       "    </tr>\n",
       "    <tr>\n",
       "      <th>2018-04-01</th>\n",
       "      <td>8.733746</td>\n",
       "      <td>9.786074</td>\n",
       "      <td></td>\n",
       "      <td></td>\n",
       "      <td></td>\n",
       "    </tr>\n",
       "    <tr>\n",
       "      <th>2018-05-01</th>\n",
       "      <td>5.957291</td>\n",
       "      <td></td>\n",
       "      <td></td>\n",
       "      <td></td>\n",
       "      <td></td>\n",
       "    </tr>\n",
       "    <tr>\n",
       "      <th>2018-06-01</th>\n",
       "      <td>1.710000</td>\n",
       "      <td></td>\n",
       "      <td></td>\n",
       "      <td></td>\n",
       "      <td></td>\n",
       "    </tr>\n",
       "  </tbody>\n",
       "</table>\n",
       "</div>"
      ],
      "text/plain": [
       "age                       0          1          2        3         4\n",
       "first_buy_months                                                    \n",
       "2018-01-01         9.454961   6.135594   7.916757  2.13261  1.244495\n",
       "2018-02-01         6.412917   3.470178   1.370945  0.98623          \n",
       "2018-03-01        25.020825  20.246548  11.499428                   \n",
       "2018-04-01         8.733746   9.786074                              \n",
       "2018-05-01         5.957291                                         \n",
       "2018-06-01         1.710000                                         "
      ]
     },
     "execution_count": 3823,
     "metadata": {},
     "output_type": "execute_result"
    }
   ],
   "source": [
    "\n",
    "\n",
    "orders_2018['buy_ts'] = pd.to_datetime(orders_2018['buy_ts'])\n",
    "orders_2018['buy_month'] = orders_2018['buy_ts'].values.astype('datetime64[M]')\n",
    "\n",
    "\n",
    "first_orders = orders_2018.groupby('uid').agg({'buy_month': 'min'}).reset_index()\n",
    "first_orders.columns = ['uid', 'first_buy_months']\n",
    "\n",
    "cohort_sizes = (\n",
    "    first_orders.groupby('first_buy_months')\n",
    "    .agg({'uid': 'nunique'})\n",
    "    .reset_index()\n",
    ")\n",
    "cohort_sizes.columns = ['first_buy_months', 'n_buyers']\n",
    "cohort_sizes.head()\n",
    "\n",
    "margin_rate = 0.5\n",
    "\n",
    "orders_ = pd.merge(orders_2018, first_orders, on='uid')\n",
    "cohorts = (\n",
    "    orders_.groupby(['first_buy_months', 'buy_month'])\n",
    "    .agg({'revenue': 'sum'})\n",
    "    .reset_index()\n",
    ")\n",
    "report = pd.merge(cohort_sizes, cohorts, on='first_buy_months')\n",
    "\n",
    "margin_rate=0.5\n",
    "\n",
    "report['gp'] = report['revenue'] * margin_rate\n",
    "\n",
    "\n",
    "report['age'] = (\n",
    "    (report['buy_month'] - report['first_buy_months']) / np.timedelta64(1, 'D')\n",
    ") / 30.44\n",
    "report['age'] = report['age'].round().astype('int')\n",
    "\n",
    "report['ltv'] = report['gp'] / report['n_buyers']\n",
    "\n",
    "print(report)\n",
    "\n",
    "\n",
    "output = report.pivot_table(\n",
    "    index='first_buy_months', \n",
    "    columns='age', \n",
    "    values='ltv', \n",
    "    aggfunc='mean')\n",
    "\n",
    "output.fillna('')\n"
   ]
  },
  {
   "cell_type": "code",
   "execution_count": 3824,
   "id": "e15ccb8f",
   "metadata": {},
   "outputs": [
    {
     "name": "stdout",
     "output_type": "stream",
     "text": [
      "26.884417432552624\n"
     ]
    }
   ],
   "source": [
    "ltv_201801 = output.loc['2018-01-01'].sum()\n",
    "\n",
    "print(ltv_201801)"
   ]
  }
 ],
 "metadata": {
  "kernelspec": {
   "display_name": "Python 3",
   "language": "python",
   "name": "python3"
  },
  "language_info": {
   "codemirror_mode": {
    "name": "ipython",
    "version": 3
   },
   "file_extension": ".py",
   "mimetype": "text/x-python",
   "name": "python",
   "nbconvert_exporter": "python",
   "pygments_lexer": "ipython3",
   "version": "3.13.0"
  }
 },
 "nbformat": 4,
 "nbformat_minor": 5
}
